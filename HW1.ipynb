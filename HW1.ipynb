{
 "cells": [
  {
   "cell_type": "code",
   "execution_count": null,
   "id": "e1c2ef5c",
   "metadata": {},
   "outputs": [],
   "source": [
    "import numpy as np\n",
    "import pandas as pd\n",
    "import matplotlib.pyplot as plt\n",
    "plt.style.use('ggplot')"
   ]
  },
  {
   "cell_type": "code",
   "execution_count": null,
   "id": "6fd2098b",
   "metadata": {},
   "outputs": [],
   "source": [
    "e = pd.read_excel('hmwk1data.xls', skiprows=7, index_col=0, header=None, na_values='ND')"
   ]
  },
  {
   "cell_type": "code",
   "execution_count": null,
   "id": "9620dd16",
   "metadata": {},
   "outputs": [],
   "source": [
    "e.columns =['dollar-euro exchange rate']"
   ]
  },
  {
   "cell_type": "code",
   "execution_count": null,
   "id": "7d657628",
   "metadata": {},
   "outputs": [],
   "source": [
    "e.head()"
   ]
  },
  {
   "cell_type": "markdown",
   "id": "9f52ebb3",
   "metadata": {},
   "source": [
    "a. (10 points)  Plot the data as a line graph and submit the plot."
   ]
  },
  {
   "cell_type": "code",
   "execution_count": null,
   "id": "8e8713c9",
   "metadata": {},
   "outputs": [],
   "source": [
    "e.plot(figsize=(11,7), legend=False,)\n",
    "plt.ylabel('Percent', )\n",
    "plt.xlabel('Date', )\n",
    "plt.title('Daily Dollar-Euro Exchange Rate')"
   ]
  },
  {
   "cell_type": "markdown",
   "id": "630ac055",
   "metadata": {},
   "source": [
    "b. (10 points)  Create a new series that is equal to the percent change in the exchange rate.  Produce a line graph of this new series and submit it."
   ]
  },
  {
   "cell_type": "code",
   "execution_count": null,
   "id": "1f748be9",
   "metadata": {},
   "outputs": [],
   "source": [
    "e.pct_change().plot(figsize=(11,7), legend=False)\n",
    "plt.ylabel('% Change', )\n",
    "plt.xlabel('Date', )\n",
    "plt.title('Dollar-Euro Exchange Rate: % change day-on-day')"
   ]
  },
  {
   "cell_type": "markdown",
   "id": "f8d865ef",
   "metadata": {},
   "source": [
    "c. (10 points)  Create a new series equal to the percent change series lagged one period.  Produce a scatter plot of the percent change series versus the lagged percent change series and submit it."
   ]
  },
  {
   "cell_type": "code",
   "execution_count": null,
   "id": "4d90ec9e",
   "metadata": {},
   "outputs": [],
   "source": [
    "plt.rcParams['figure.figsize'] = (8,8)\n",
    "plt.scatter(e.pct_change().shift(1), e.pct_change(), )\n",
    "plt.title('Dollar-Euro Exchange Rate')\n",
    "plt.xlabel('% change previous day')\n",
    "plt.ylabel('% change current day')"
   ]
  },
  {
   "cell_type": "markdown",
   "id": "d39c67cc",
   "metadata": {},
   "source": [
    "(10 points)  Run a regression of the percent change series on the lagged percent change series.  Submit the regression results."
   ]
  },
  {
   "cell_type": "code",
   "execution_count": null,
   "id": "a9ea8058",
   "metadata": {},
   "outputs": [],
   "source": [
    "import statsmodels.api as sm"
   ]
  },
  {
   "cell_type": "code",
   "execution_count": null,
   "id": "22cebeb3",
   "metadata": {},
   "outputs": [],
   "source": [
    "mod = sm.OLS(e.pct_change(), sm.add_constant(e.pct_change().shift(1)), missing='drop')"
   ]
  },
  {
   "cell_type": "code",
   "execution_count": null,
   "id": "4775811b",
   "metadata": {},
   "outputs": [],
   "source": [
    "res = mod.fit()"
   ]
  },
  {
   "cell_type": "code",
   "execution_count": null,
   "id": "1416ac44",
   "metadata": {},
   "outputs": [],
   "source": [
    "print(res.summary())"
   ]
  },
  {
   "cell_type": "markdown",
   "id": "c2433f48",
   "metadata": {},
   "source": [
    "(10 points)  Produce a plot of the residuals (do not show any other series in the plot) from the regression and submit the plot."
   ]
  },
  {
   "cell_type": "code",
   "execution_count": null,
   "id": "d3d5c67d",
   "metadata": {},
   "outputs": [],
   "source": [
    "plt.rcParams['figure.figsize'] = (11,7)\n",
    "plt.scatter(np.arange(len(res.resid)), res.resid)\n",
    "plt.title('Residual plot: % change t vs % change t-1')"
   ]
  },
  {
   "cell_type": "code",
   "execution_count": null,
   "id": "c0bd57f2",
   "metadata": {},
   "outputs": [],
   "source": []
  },
  {
   "cell_type": "code",
   "execution_count": null,
   "id": "62695259",
   "metadata": {},
   "outputs": [],
   "source": []
  },
  {
   "cell_type": "markdown",
   "id": "b8dbaf80",
   "metadata": {},
   "source": [
    " (20 points)  Take logs and produce a time series plot of the log of the $/Ft exchange rate.  Discuss.  (three of four sentences)"
   ]
  },
  {
   "cell_type": "code",
   "execution_count": null,
   "id": "921b4bff",
   "metadata": {},
   "outputs": [],
   "source": [
    "f = pd.read_csv('hmwk_week_1.dat', header=0)"
   ]
  },
  {
   "cell_type": "code",
   "execution_count": null,
   "id": "dab156cf",
   "metadata": {},
   "outputs": [],
   "source": [
    "f"
   ]
  },
  {
   "cell_type": "code",
   "execution_count": null,
   "id": "ef840d63",
   "metadata": {},
   "outputs": [],
   "source": [
    "f.plot(figsize=(11,7), legend=False)\n",
    "plt.title('$/Ft exchange rate')\n",
    "plt.ylabel('Rate')\n",
    "plt.xlabel('Day')"
   ]
  },
  {
   "cell_type": "code",
   "execution_count": null,
   "id": "adb701d3",
   "metadata": {},
   "outputs": [],
   "source": [
    "np.log(f).plot(figsize=(11,7), legend=False)\n",
    "plt.title('log $/Ft exchange rate')\n",
    "plt.ylabel('log(Rate)')\n",
    "plt.xlabel('Day')"
   ]
  },
  {
   "cell_type": "markdown",
   "id": "073c79d2",
   "metadata": {},
   "source": [
    " (20 points)  Produce a scatterplot of the log of the dollar/Ft exchange rate against the lagged log of the dollar/Ft exchange rate.  Discuss.  (two or three sentences)"
   ]
  },
  {
   "cell_type": "code",
   "execution_count": null,
   "id": "ad269925",
   "metadata": {},
   "outputs": [],
   "source": [
    "plt.rcParams['figure.figsize'] = [11, 7]\n",
    "plt.scatter(np.log(f.shift(1)), np.log(f))\n",
    "plt.ylabel('log(rate) current day')\n",
    "plt.xlabel('log(rate) previous day')\n",
    "plt.title('log $/Ft exchange rate')"
   ]
  },
  {
   "cell_type": "markdown",
   "id": "80989761",
   "metadata": {},
   "source": [
    " (10 points)  Create a series that is the change in the log $/Ft exchange rate.  Run a test for normality of the series.  Do the log exchange rate changes appear normally distributed?  If not, what is the nature of the deviation from normality?"
   ]
  },
  {
   "cell_type": "code",
   "execution_count": null,
   "id": "157dcded",
   "metadata": {},
   "outputs": [],
   "source": [
    "np.log(f).diff().plot(figsize=(11,7), legend=False)\n",
    "plt.title('log $/Ft exchange rate: day-on day-change')\n",
    "plt.ylabel('log(Rate)')\n",
    "plt.xlabel('Day')"
   ]
  },
  {
   "cell_type": "code",
   "execution_count": null,
   "id": "29b56971",
   "metadata": {},
   "outputs": [],
   "source": [
    "np.log(f).diff().plot.hist(figsize=(10,7), bins=60,)\n",
    "plt.title('Histogram of log $/Ft exchange rate: day-on-day change')\n"
   ]
  },
  {
   "cell_type": "code",
   "execution_count": null,
   "id": "86cef3cc",
   "metadata": {},
   "outputs": [],
   "source": [
    "np.log(f).diff().describe()"
   ]
  },
  {
   "cell_type": "code",
   "execution_count": null,
   "id": "6f292727",
   "metadata": {},
   "outputs": [],
   "source": []
  },
  {
   "cell_type": "code",
   "execution_count": null,
   "id": "94ff0531",
   "metadata": {},
   "outputs": [],
   "source": [
    "sm.stats.stattools.jarque_bera(np.log(f).diff()[1:])\n",
    "# JB, pval, skew, kurtosis"
   ]
  },
  {
   "cell_type": "code",
   "execution_count": null,
   "id": "74f50c03",
   "metadata": {},
   "outputs": [],
   "source": [
    "sm.stats.diagnostic.kstest_normal(np.log(f).diff()[1:])\n",
    "# ks, pval"
   ]
  },
  {
   "cell_type": "code",
   "execution_count": null,
   "id": "6958127d",
   "metadata": {},
   "outputs": [],
   "source": []
  }
 ],
 "metadata": {
  "kernelspec": {
   "display_name": "Python 3 (ipykernel)",
   "language": "python",
   "name": "python3"
  },
  "language_info": {
   "codemirror_mode": {
    "name": "ipython",
    "version": 3
   },
   "file_extension": ".py",
   "mimetype": "text/x-python",
   "name": "python",
   "nbconvert_exporter": "python",
   "pygments_lexer": "ipython3",
   "version": "3.9.12"
  }
 },
 "nbformat": 4,
 "nbformat_minor": 5
}
